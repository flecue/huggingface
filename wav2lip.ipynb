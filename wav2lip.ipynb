{
  "nbformat": 4,
  "nbformat_minor": 0,
  "metadata": {
    "colab": {
      "name": "wav2lip.ipynb",
      "provenance": [],
      "collapsed_sections": [],
      "include_colab_link": true
    },
    "kernelspec": {
      "name": "python3",
      "display_name": "Python 3"
    },
    "language_info": {
      "name": "python"
    },
    "accelerator": "GPU"
  },
  "cells": [
    {
      "cell_type": "markdown",
      "metadata": {
        "id": "view-in-github",
        "colab_type": "text"
      },
      "source": [
        "<a href=\"https://colab.research.google.com/github/flecue/huggingface/blob/main/wav2lip.ipynb\" target=\"_parent\"><img src=\"https://colab.research.google.com/assets/colab-badge.svg\" alt=\"Open In Colab\"/></a>"
      ]
    },
    {
      "cell_type": "code",
      "source": [
        "! pip install paddlehub"
      ],
      "metadata": {
        "id": "yEktWssIjh15"
      },
      "execution_count": null,
      "outputs": []
    },
    {
      "cell_type": "code",
      "execution_count": null,
      "metadata": {
        "id": "2_z-ou-Liv8I"
      },
      "outputs": [],
      "source": [
        "! pip install paddlepaddle-gpu==2.2.1.post112 -f https://www.paddlepaddle.org.cn/whl/linux/mkl/avx/stable.html\n",
        "! hub install wav2lip==1.0.0"
      ]
    },
    {
      "cell_type": "code",
      "source": [
        "! pip install gradio"
      ],
      "metadata": {
        "id": "vi1DbTfmj0Nb"
      },
      "execution_count": null,
      "outputs": []
    },
    {
      "cell_type": "code",
      "source": [
        "import gradio as gr\n",
        "import paddlehub as hub\n",
        "from pathlib import Path\n",
        "module = hub.Module(name=\"wav2lip\")\n",
        "def inference(image,audio):\n",
        "    face_input_path = image\n",
        "    audio_input_path = audio\n",
        "    print(audio_input_path)\n",
        "    module.wav2lip_transfer(face=face_input_path, audio=audio_input_path, output_dir='.', use_gpu=True)  \n",
        "    return \"result.mp4\"\n",
        "\n",
        "# Must be a wav file! I used my DAW to convert the MP3 to wav (cuz too lazy to use ffmpeg)\n",
        "inference('/content/monatest.jpeg', '/content/Master.wav')"
      ],
      "metadata": {
        "colab": {
          "base_uri": "https://localhost:8080/",
          "height": 183
        },
        "id": "7uUL5HgUizWo",
        "outputId": "5f11c8be-8798-44e8-9181-c49489ae2595"
      },
      "execution_count": null,
      "outputs": [
        {
          "output_type": "stream",
          "name": "stdout",
          "text": [
            "[12/20 20:50:03] ppgan INFO: Found /root/.cache/ppgan/GPEN-512.pdparams\n",
            "/content/Master.wav\n",
            "Number of frames available for inference: 1\n",
            "Length of mel chunks: 415\n",
            "Model loaded\n"
          ]
        },
        {
          "output_type": "stream",
          "name": "stderr",
          "text": [
            "  0%|          | 0/4 [00:00<?, ?it/s]\n",
            "100%|██████████| 1/1 [00:00<00:00, 11.71it/s]\n",
            "100%|██████████| 4/4 [00:44<00:00, 11.11s/it]\n"
          ]
        },
        {
          "output_type": "execute_result",
          "data": {
            "application/vnd.google.colaboratory.intrinsic+json": {
              "type": "string"
            },
            "text/plain": [
              "'result.mp4'"
            ]
          },
          "metadata": {},
          "execution_count": 12
        }
      ]
    }
  ]
}