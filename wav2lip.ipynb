{
  "nbformat": 4,
  "nbformat_minor": 0,
  "metadata": {
    "colab": {
      "name": "wav2lip.ipynb",
      "provenance": [],
      "collapsed_sections": [],
      "include_colab_link": true
    },
    "kernelspec": {
      "name": "python3",
      "display_name": "Python 3"
    },
    "language_info": {
      "name": "python"
    },
    "accelerator": "GPU"
  },
  "cells": [
    {
      "cell_type": "markdown",
      "metadata": {
        "id": "view-in-github",
        "colab_type": "text"
      },
      "source": [
        "<a href=\"https://colab.research.google.com/github/flecue/huggingface/blob/main/wav2lip.ipynb\" target=\"_parent\"><img src=\"https://colab.research.google.com/assets/colab-badge.svg\" alt=\"Open In Colab\"/></a>"
      ]
    },
    {
      "cell_type": "markdown",
      "source": [
        "> From https://twitter.com/_nateraw/status/1473034563001671683\n",
        "\n",
        "> Does not work yet\n",
        "\n",
        "\n",
        "\n"
      ],
      "metadata": {
        "id": "qQ1OWMQqRnHL"
      }
    },
    {
      "cell_type": "code",
      "source": [
        "! pip install paddlehub"
      ],
      "metadata": {
        "id": "yEktWssIjh15",
        "outputId": "2d19d269-7316-4b10-b794-83d159027b38",
        "colab": {
          "base_uri": "https://localhost:8080/"
        }
      },
      "execution_count": 1,
      "outputs": [
        {
          "output_type": "stream",
          "name": "stdout",
          "text": [
            "Collecting paddlehub\n",
            "  Downloading paddlehub-2.1.1-py3-none-any.whl (211 kB)\n",
            "\u001b[K     |████████████████████████████████| 211 kB 4.1 MB/s \n",
            "\u001b[?25hRequirement already satisfied: tqdm in /usr/local/lib/python3.7/dist-packages (from paddlehub) (4.62.3)\n",
            "Requirement already satisfied: filelock in /usr/local/lib/python3.7/dist-packages (from paddlehub) (3.4.0)\n",
            "Requirement already satisfied: packaging in /usr/local/lib/python3.7/dist-packages (from paddlehub) (21.3)\n",
            "Collecting paddle2onnx>=0.5.1\n",
            "  Downloading paddle2onnx-0.9.0-py3-none-any.whl (84 kB)\n",
            "\u001b[K     |████████████████████████████████| 84 kB 444 kB/s \n",
            "\u001b[?25hRequirement already satisfied: pyzmq in /usr/local/lib/python3.7/dist-packages (from paddlehub) (22.3.0)\n",
            "Requirement already satisfied: pyyaml in /usr/local/lib/python3.7/dist-packages (from paddlehub) (3.13)\n",
            "Collecting paddlenlp>=2.0.0rc5\n",
            "  Downloading paddlenlp-2.2.1-py3-none-any.whl (1.0 MB)\n",
            "\u001b[K     |████████████████████████████████| 1.0 MB 14.0 MB/s \n",
            "\u001b[?25hRequirement already satisfied: easydict in /usr/local/lib/python3.7/dist-packages (from paddlehub) (1.9)\n",
            "Collecting visualdl>=2.0.0\n",
            "  Downloading visualdl-2.2.2-py3-none-any.whl (2.7 MB)\n",
            "\u001b[K     |████████████████████████████████| 2.7 MB 26.5 MB/s \n",
            "\u001b[?25hCollecting colorama\n",
            "  Downloading colorama-0.4.4-py2.py3-none-any.whl (16 kB)\n",
            "Collecting rarfile\n",
            "  Downloading rarfile-4.0-py3-none-any.whl (28 kB)\n",
            "Collecting gitpython\n",
            "  Downloading GitPython-3.1.24-py3-none-any.whl (180 kB)\n",
            "\u001b[K     |████████████████████████████████| 180 kB 32.7 MB/s \n",
            "\u001b[?25hRequirement already satisfied: opencv-python in /usr/local/lib/python3.7/dist-packages (from paddlehub) (4.1.2.30)\n",
            "Requirement already satisfied: numpy in /usr/local/lib/python3.7/dist-packages (from paddlehub) (1.19.5)\n",
            "Requirement already satisfied: matplotlib in /usr/local/lib/python3.7/dist-packages (from paddlehub) (3.2.2)\n",
            "Collecting gunicorn>=19.10.0\n",
            "  Downloading gunicorn-20.1.0-py3-none-any.whl (79 kB)\n",
            "\u001b[K     |████████████████████████████████| 79 kB 4.0 MB/s \n",
            "\u001b[?25hRequirement already satisfied: flask>=1.1.0 in /usr/local/lib/python3.7/dist-packages (from paddlehub) (1.1.4)\n",
            "Requirement already satisfied: Pillow in /usr/local/lib/python3.7/dist-packages (from paddlehub) (7.1.2)\n",
            "Collecting colorlog\n",
            "  Downloading colorlog-6.6.0-py2.py3-none-any.whl (11 kB)\n",
            "Requirement already satisfied: itsdangerous<2.0,>=0.24 in /usr/local/lib/python3.7/dist-packages (from flask>=1.1.0->paddlehub) (1.1.0)\n",
            "Requirement already satisfied: Werkzeug<2.0,>=0.15 in /usr/local/lib/python3.7/dist-packages (from flask>=1.1.0->paddlehub) (1.0.1)\n",
            "Requirement already satisfied: Jinja2<3.0,>=2.10.1 in /usr/local/lib/python3.7/dist-packages (from flask>=1.1.0->paddlehub) (2.11.3)\n",
            "Requirement already satisfied: click<8.0,>=5.1 in /usr/local/lib/python3.7/dist-packages (from flask>=1.1.0->paddlehub) (7.1.2)\n",
            "Requirement already satisfied: setuptools>=3.0 in /usr/local/lib/python3.7/dist-packages (from gunicorn>=19.10.0->paddlehub) (57.4.0)\n",
            "Requirement already satisfied: MarkupSafe>=0.23 in /usr/local/lib/python3.7/dist-packages (from Jinja2<3.0,>=2.10.1->flask>=1.1.0->paddlehub) (2.0.1)\n",
            "Requirement already satisfied: six in /usr/local/lib/python3.7/dist-packages (from paddle2onnx>=0.5.1->paddlehub) (1.15.0)\n",
            "Requirement already satisfied: protobuf in /usr/local/lib/python3.7/dist-packages (from paddle2onnx>=0.5.1->paddlehub) (3.17.3)\n",
            "Collecting onnx<=1.9.0\n",
            "  Downloading onnx-1.9.0-cp37-cp37m-manylinux2010_x86_64.whl (12.2 MB)\n",
            "\u001b[K     |████████████████████████████████| 12.2 MB 29.6 MB/s \n",
            "\u001b[?25hRequirement already satisfied: typing-extensions>=3.6.2.1 in /usr/local/lib/python3.7/dist-packages (from onnx<=1.9.0->paddle2onnx>=0.5.1->paddlehub) (3.10.0.2)\n",
            "Collecting seqeval\n",
            "  Downloading seqeval-1.2.2.tar.gz (43 kB)\n",
            "\u001b[K     |████████████████████████████████| 43 kB 1.9 MB/s \n",
            "\u001b[?25hRequirement already satisfied: multiprocess in /usr/local/lib/python3.7/dist-packages (from paddlenlp>=2.0.0rc5->paddlehub) (0.70.12.2)\n",
            "Requirement already satisfied: h5py in /usr/local/lib/python3.7/dist-packages (from paddlenlp>=2.0.0rc5->paddlehub) (3.1.0)\n",
            "Requirement already satisfied: jieba in /usr/local/lib/python3.7/dist-packages (from paddlenlp>=2.0.0rc5->paddlehub) (0.42.1)\n",
            "Collecting bce-python-sdk\n",
            "  Downloading bce-python-sdk-0.8.64.tar.gz (127 kB)\n",
            "\u001b[K     |████████████████████████████████| 127 kB 48.2 MB/s \n",
            "\u001b[?25hCollecting pre-commit\n",
            "  Downloading pre_commit-2.16.0-py2.py3-none-any.whl (191 kB)\n",
            "\u001b[K     |████████████████████████████████| 191 kB 33.6 MB/s \n",
            "\u001b[?25hCollecting Flask-Babel>=1.0.0\n",
            "  Downloading Flask_Babel-2.0.0-py3-none-any.whl (9.3 kB)\n",
            "Requirement already satisfied: requests in /usr/local/lib/python3.7/dist-packages (from visualdl>=2.0.0->paddlehub) (2.23.0)\n",
            "Requirement already satisfied: pandas in /usr/local/lib/python3.7/dist-packages (from visualdl>=2.0.0->paddlehub) (1.1.5)\n",
            "Collecting flake8>=3.7.9\n",
            "  Downloading flake8-4.0.1-py2.py3-none-any.whl (64 kB)\n",
            "\u001b[K     |████████████████████████████████| 64 kB 2.5 MB/s \n",
            "\u001b[?25hCollecting shellcheck-py\n",
            "  Downloading shellcheck_py-0.8.0.2-py2.py3-none-manylinux_2_5_x86_64.manylinux1_x86_64.manylinux_2_17_x86_64.manylinux2014_x86_64.whl (2.1 MB)\n",
            "\u001b[K     |████████████████████████████████| 2.1 MB 39.8 MB/s \n",
            "\u001b[?25hCollecting pyflakes<2.5.0,>=2.4.0\n",
            "  Downloading pyflakes-2.4.0-py2.py3-none-any.whl (69 kB)\n",
            "\u001b[K     |████████████████████████████████| 69 kB 7.0 MB/s \n",
            "\u001b[?25hCollecting pycodestyle<2.9.0,>=2.8.0\n",
            "  Downloading pycodestyle-2.8.0-py2.py3-none-any.whl (42 kB)\n",
            "\u001b[K     |████████████████████████████████| 42 kB 855 kB/s \n",
            "\u001b[?25hCollecting importlib-metadata<4.3\n",
            "  Downloading importlib_metadata-4.2.0-py3-none-any.whl (16 kB)\n",
            "Collecting mccabe<0.7.0,>=0.6.0\n",
            "  Downloading mccabe-0.6.1-py2.py3-none-any.whl (8.6 kB)\n",
            "Requirement already satisfied: pytz in /usr/local/lib/python3.7/dist-packages (from Flask-Babel>=1.0.0->visualdl>=2.0.0->paddlehub) (2018.9)\n",
            "Requirement already satisfied: Babel>=2.3 in /usr/local/lib/python3.7/dist-packages (from Flask-Babel>=1.0.0->visualdl>=2.0.0->paddlehub) (2.9.1)\n",
            "Requirement already satisfied: zipp>=0.5 in /usr/local/lib/python3.7/dist-packages (from importlib-metadata<4.3->flake8>=3.7.9->visualdl>=2.0.0->paddlehub) (3.6.0)\n",
            "Collecting pycryptodome>=3.8.0\n",
            "  Downloading pycryptodome-3.12.0-cp35-abi3-manylinux2010_x86_64.whl (2.0 MB)\n",
            "\u001b[K     |████████████████████████████████| 2.0 MB 39.5 MB/s \n",
            "\u001b[?25hRequirement already satisfied: future>=0.6.0 in /usr/local/lib/python3.7/dist-packages (from bce-python-sdk->visualdl>=2.0.0->paddlehub) (0.16.0)\n",
            "Collecting gitdb<5,>=4.0.1\n",
            "  Downloading gitdb-4.0.9-py3-none-any.whl (63 kB)\n",
            "\u001b[K     |████████████████████████████████| 63 kB 1.7 MB/s \n",
            "\u001b[?25hCollecting smmap<6,>=3.0.1\n",
            "  Downloading smmap-5.0.0-py3-none-any.whl (24 kB)\n",
            "Requirement already satisfied: cached-property in /usr/local/lib/python3.7/dist-packages (from h5py->paddlenlp>=2.0.0rc5->paddlehub) (1.5.2)\n",
            "Requirement already satisfied: kiwisolver>=1.0.1 in /usr/local/lib/python3.7/dist-packages (from matplotlib->paddlehub) (1.3.2)\n",
            "Requirement already satisfied: cycler>=0.10 in /usr/local/lib/python3.7/dist-packages (from matplotlib->paddlehub) (0.11.0)\n",
            "Requirement already satisfied: python-dateutil>=2.1 in /usr/local/lib/python3.7/dist-packages (from matplotlib->paddlehub) (2.8.2)\n",
            "Requirement already satisfied: pyparsing!=2.0.4,!=2.1.2,!=2.1.6,>=2.0.1 in /usr/local/lib/python3.7/dist-packages (from matplotlib->paddlehub) (3.0.6)\n",
            "Requirement already satisfied: dill>=0.3.4 in /usr/local/lib/python3.7/dist-packages (from multiprocess->paddlenlp>=2.0.0rc5->paddlehub) (0.3.4)\n",
            "Requirement already satisfied: toml in /usr/local/lib/python3.7/dist-packages (from pre-commit->visualdl>=2.0.0->paddlehub) (0.10.2)\n",
            "Collecting virtualenv>=20.0.8\n",
            "  Downloading virtualenv-20.10.0-py2.py3-none-any.whl (5.6 MB)\n",
            "\u001b[K     |████████████████████████████████| 5.6 MB 39.6 MB/s \n",
            "\u001b[?25hCollecting cfgv>=2.0.0\n",
            "  Downloading cfgv-3.3.1-py2.py3-none-any.whl (7.3 kB)\n",
            "Collecting nodeenv>=0.11.1\n",
            "  Downloading nodeenv-1.6.0-py2.py3-none-any.whl (21 kB)\n",
            "Collecting identify>=1.0.0\n",
            "  Downloading identify-2.4.0-py2.py3-none-any.whl (98 kB)\n",
            "\u001b[K     |████████████████████████████████| 98 kB 6.8 MB/s \n",
            "\u001b[?25hCollecting pyyaml\n",
            "  Downloading PyYAML-6.0-cp37-cp37m-manylinux_2_5_x86_64.manylinux1_x86_64.manylinux_2_12_x86_64.manylinux2010_x86_64.whl (596 kB)\n",
            "\u001b[K     |████████████████████████████████| 596 kB 34.1 MB/s \n",
            "\u001b[?25hCollecting platformdirs<3,>=2\n",
            "  Downloading platformdirs-2.4.0-py3-none-any.whl (14 kB)\n",
            "Collecting backports.entry-points-selectable>=1.0.4\n",
            "  Downloading backports.entry_points_selectable-1.1.1-py2.py3-none-any.whl (6.2 kB)\n",
            "Collecting distlib<1,>=0.3.1\n",
            "  Downloading distlib-0.3.4-py2.py3-none-any.whl (461 kB)\n",
            "\u001b[K     |████████████████████████████████| 461 kB 43.6 MB/s \n",
            "\u001b[?25hRequirement already satisfied: certifi>=2017.4.17 in /usr/local/lib/python3.7/dist-packages (from requests->visualdl>=2.0.0->paddlehub) (2021.10.8)\n",
            "Requirement already satisfied: idna<3,>=2.5 in /usr/local/lib/python3.7/dist-packages (from requests->visualdl>=2.0.0->paddlehub) (2.10)\n",
            "Requirement already satisfied: urllib3!=1.25.0,!=1.25.1,<1.26,>=1.21.1 in /usr/local/lib/python3.7/dist-packages (from requests->visualdl>=2.0.0->paddlehub) (1.24.3)\n",
            "Requirement already satisfied: chardet<4,>=3.0.2 in /usr/local/lib/python3.7/dist-packages (from requests->visualdl>=2.0.0->paddlehub) (3.0.4)\n",
            "Requirement already satisfied: scikit-learn>=0.21.3 in /usr/local/lib/python3.7/dist-packages (from seqeval->paddlenlp>=2.0.0rc5->paddlehub) (1.0.1)\n",
            "Requirement already satisfied: threadpoolctl>=2.0.0 in /usr/local/lib/python3.7/dist-packages (from scikit-learn>=0.21.3->seqeval->paddlenlp>=2.0.0rc5->paddlehub) (3.0.0)\n",
            "Requirement already satisfied: joblib>=0.11 in /usr/local/lib/python3.7/dist-packages (from scikit-learn>=0.21.3->seqeval->paddlenlp>=2.0.0rc5->paddlehub) (1.1.0)\n",
            "Requirement already satisfied: scipy>=1.1.0 in /usr/local/lib/python3.7/dist-packages (from scikit-learn>=0.21.3->seqeval->paddlenlp>=2.0.0rc5->paddlehub) (1.4.1)\n",
            "Building wheels for collected packages: bce-python-sdk, seqeval\n",
            "  Building wheel for bce-python-sdk (setup.py) ... \u001b[?25l\u001b[?25hdone\n",
            "  Created wheel for bce-python-sdk: filename=bce_python_sdk-0.8.64-py3-none-any.whl size=202973 sha256=4543c0b7c22bdf304688755bea95d61dbc21b8fce745fe70756dc54d88dc08e7\n",
            "  Stored in directory: /root/.cache/pip/wheels/fd/ee/a5/4ad3bdc0e60b48e892e8bd6f661a3201d7e76dccfa9e968b34\n",
            "  Building wheel for seqeval (setup.py) ... \u001b[?25l\u001b[?25hdone\n",
            "  Created wheel for seqeval: filename=seqeval-1.2.2-py3-none-any.whl size=16181 sha256=c05f84398c4f70de86821a79fc940bb363a67470c60679842f5823d2a9950bf9\n",
            "  Stored in directory: /root/.cache/pip/wheels/05/96/ee/7cac4e74f3b19e3158dce26a20a1c86b3533c43ec72a549fd7\n",
            "Successfully built bce-python-sdk seqeval\n",
            "Installing collected packages: importlib-metadata, platformdirs, distlib, backports.entry-points-selectable, virtualenv, smmap, pyyaml, pyflakes, pycryptodome, pycodestyle, nodeenv, mccabe, identify, cfgv, shellcheck-py, seqeval, pre-commit, onnx, gitdb, Flask-Babel, flake8, colorlog, colorama, bce-python-sdk, visualdl, rarfile, paddlenlp, paddle2onnx, gunicorn, gitpython, paddlehub\n",
            "  Attempting uninstall: importlib-metadata\n",
            "    Found existing installation: importlib-metadata 4.8.2\n",
            "    Uninstalling importlib-metadata-4.8.2:\n",
            "      Successfully uninstalled importlib-metadata-4.8.2\n",
            "  Attempting uninstall: pyyaml\n",
            "    Found existing installation: PyYAML 3.13\n",
            "    Uninstalling PyYAML-3.13:\n",
            "      Successfully uninstalled PyYAML-3.13\n",
            "\u001b[31mERROR: pip's dependency resolver does not currently take into account all the packages that are installed. This behaviour is the source of the following dependency conflicts.\n",
            "markdown 3.3.6 requires importlib-metadata>=4.4; python_version < \"3.10\", but you have importlib-metadata 4.2.0 which is incompatible.\u001b[0m\n",
            "Successfully installed Flask-Babel-2.0.0 backports.entry-points-selectable-1.1.1 bce-python-sdk-0.8.64 cfgv-3.3.1 colorama-0.4.4 colorlog-6.6.0 distlib-0.3.4 flake8-4.0.1 gitdb-4.0.9 gitpython-3.1.24 gunicorn-20.1.0 identify-2.4.0 importlib-metadata-4.2.0 mccabe-0.6.1 nodeenv-1.6.0 onnx-1.9.0 paddle2onnx-0.9.0 paddlehub-2.1.1 paddlenlp-2.2.1 platformdirs-2.4.0 pre-commit-2.16.0 pycodestyle-2.8.0 pycryptodome-3.12.0 pyflakes-2.4.0 pyyaml-6.0 rarfile-4.0 seqeval-1.2.2 shellcheck-py-0.8.0.2 smmap-5.0.0 virtualenv-20.10.0 visualdl-2.2.2\n"
          ]
        }
      ]
    },
    {
      "cell_type": "markdown",
      "source": [
        ""
      ],
      "metadata": {
        "id": "wwxXbJt_Rkmd"
      }
    },
    {
      "cell_type": "code",
      "execution_count": 2,
      "metadata": {
        "id": "2_z-ou-Liv8I",
        "outputId": "8f38ba48-4cd0-4687-9e54-5b15e99cc5af",
        "colab": {
          "base_uri": "https://localhost:8080/"
        }
      },
      "outputs": [
        {
          "output_type": "stream",
          "name": "stdout",
          "text": [
            "Looking in links: https://www.paddlepaddle.org.cn/whl/linux/mkl/avx/stable.html\n",
            "Collecting paddlepaddle-gpu==2.2.1.post112\n",
            "  Downloading https://paddle-wheel.bj.bcebos.com/2.2.1/linux/linux-gpu-cuda11.2-cudnn8-mkl-gcc8.2-avx/paddlepaddle_gpu-2.2.1.post112-cp37-cp37m-linux_x86_64.whl (449.4 MB)\n",
            "\u001b[K     |████████████████████████████████| 449.4 MB 15 kB/s \n",
            "\u001b[?25hRequirement already satisfied: requests>=2.20.0 in /usr/local/lib/python3.7/dist-packages (from paddlepaddle-gpu==2.2.1.post112) (2.23.0)\n",
            "Requirement already satisfied: decorator in /usr/local/lib/python3.7/dist-packages (from paddlepaddle-gpu==2.2.1.post112) (4.4.2)\n",
            "Requirement already satisfied: Pillow in /usr/local/lib/python3.7/dist-packages (from paddlepaddle-gpu==2.2.1.post112) (7.1.2)\n",
            "Requirement already satisfied: numpy>=1.13 in /usr/local/lib/python3.7/dist-packages (from paddlepaddle-gpu==2.2.1.post112) (1.19.5)\n",
            "Requirement already satisfied: protobuf>=3.1.0 in /usr/local/lib/python3.7/dist-packages (from paddlepaddle-gpu==2.2.1.post112) (3.17.3)\n",
            "Requirement already satisfied: astor in /usr/local/lib/python3.7/dist-packages (from paddlepaddle-gpu==2.2.1.post112) (0.8.1)\n",
            "Requirement already satisfied: six in /usr/local/lib/python3.7/dist-packages (from paddlepaddle-gpu==2.2.1.post112) (1.15.0)\n",
            "Requirement already satisfied: chardet<4,>=3.0.2 in /usr/local/lib/python3.7/dist-packages (from requests>=2.20.0->paddlepaddle-gpu==2.2.1.post112) (3.0.4)\n",
            "Requirement already satisfied: certifi>=2017.4.17 in /usr/local/lib/python3.7/dist-packages (from requests>=2.20.0->paddlepaddle-gpu==2.2.1.post112) (2021.10.8)\n",
            "Requirement already satisfied: idna<3,>=2.5 in /usr/local/lib/python3.7/dist-packages (from requests>=2.20.0->paddlepaddle-gpu==2.2.1.post112) (2.10)\n",
            "Requirement already satisfied: urllib3!=1.25.0,!=1.25.1,<1.26,>=1.21.1 in /usr/local/lib/python3.7/dist-packages (from requests>=2.20.0->paddlepaddle-gpu==2.2.1.post112) (1.24.3)\n",
            "Installing collected packages: paddlepaddle-gpu\n",
            "Successfully installed paddlepaddle-gpu-2.2.1.post112\n",
            "Download https://bj.bcebos.com/paddlehub/paddlehub_dev/wav2lip.tar.gz\n",
            "[##################################################] 100.00%\n",
            "Decompress /root/.paddlehub/tmp/tmpjjy4g41j/wav2lip.tar.gz\n",
            "[##################################################] 100.00%\n",
            "\u001b[32m[2021-12-20 23:53:35,275] [    INFO]\u001b[0m - Successfully installed dependent packages.\u001b[0m\n",
            "\u001b[32m[2021-12-20 23:53:36,334] [    INFO]\u001b[0m - Successfully installed wav2lip-1.0.0\u001b[0m\n"
          ]
        }
      ],
      "source": [
        "! pip install paddlepaddle-gpu==2.2.1.post112 -f https://www.paddlepaddle.org.cn/whl/linux/mkl/avx/stable.html\n",
        "! hub install wav2lip==1.0.0"
      ]
    },
    {
      "cell_type": "code",
      "source": [
        "! pip install gradio"
      ],
      "metadata": {
        "id": "vi1DbTfmj0Nb",
        "outputId": "5e911f50-464e-497f-a5c9-a3c672bd85e1",
        "colab": {
          "base_uri": "https://localhost:8080/"
        }
      },
      "execution_count": 3,
      "outputs": [
        {
          "output_type": "stream",
          "name": "stdout",
          "text": [
            "Collecting gradio\n",
            "  Downloading gradio-2.5.2-py3-none-any.whl (982 kB)\n",
            "\u001b[?25l\r\u001b[K     |▍                               | 10 kB 22.1 MB/s eta 0:00:01\r\u001b[K     |▊                               | 20 kB 25.3 MB/s eta 0:00:01\r\u001b[K     |█                               | 30 kB 11.9 MB/s eta 0:00:01\r\u001b[K     |█▍                              | 40 kB 9.4 MB/s eta 0:00:01\r\u001b[K     |█▊                              | 51 kB 5.4 MB/s eta 0:00:01\r\u001b[K     |██                              | 61 kB 6.0 MB/s eta 0:00:01\r\u001b[K     |██▍                             | 71 kB 5.7 MB/s eta 0:00:01\r\u001b[K     |██▊                             | 81 kB 6.4 MB/s eta 0:00:01\r\u001b[K     |███                             | 92 kB 4.7 MB/s eta 0:00:01\r\u001b[K     |███▍                            | 102 kB 5.2 MB/s eta 0:00:01\r\u001b[K     |███▊                            | 112 kB 5.2 MB/s eta 0:00:01\r\u001b[K     |████                            | 122 kB 5.2 MB/s eta 0:00:01\r\u001b[K     |████▍                           | 133 kB 5.2 MB/s eta 0:00:01\r\u001b[K     |████▊                           | 143 kB 5.2 MB/s eta 0:00:01\r\u001b[K     |█████                           | 153 kB 5.2 MB/s eta 0:00:01\r\u001b[K     |█████▍                          | 163 kB 5.2 MB/s eta 0:00:01\r\u001b[K     |█████▊                          | 174 kB 5.2 MB/s eta 0:00:01\r\u001b[K     |██████                          | 184 kB 5.2 MB/s eta 0:00:01\r\u001b[K     |██████▍                         | 194 kB 5.2 MB/s eta 0:00:01\r\u001b[K     |██████▊                         | 204 kB 5.2 MB/s eta 0:00:01\r\u001b[K     |███████                         | 215 kB 5.2 MB/s eta 0:00:01\r\u001b[K     |███████▍                        | 225 kB 5.2 MB/s eta 0:00:01\r\u001b[K     |███████▊                        | 235 kB 5.2 MB/s eta 0:00:01\r\u001b[K     |████████                        | 245 kB 5.2 MB/s eta 0:00:01\r\u001b[K     |████████▍                       | 256 kB 5.2 MB/s eta 0:00:01\r\u001b[K     |████████▊                       | 266 kB 5.2 MB/s eta 0:00:01\r\u001b[K     |█████████                       | 276 kB 5.2 MB/s eta 0:00:01\r\u001b[K     |█████████▍                      | 286 kB 5.2 MB/s eta 0:00:01\r\u001b[K     |█████████▊                      | 296 kB 5.2 MB/s eta 0:00:01\r\u001b[K     |██████████                      | 307 kB 5.2 MB/s eta 0:00:01\r\u001b[K     |██████████▍                     | 317 kB 5.2 MB/s eta 0:00:01\r\u001b[K     |██████████▊                     | 327 kB 5.2 MB/s eta 0:00:01\r\u001b[K     |███████████                     | 337 kB 5.2 MB/s eta 0:00:01\r\u001b[K     |███████████▍                    | 348 kB 5.2 MB/s eta 0:00:01\r\u001b[K     |███████████▊                    | 358 kB 5.2 MB/s eta 0:00:01\r\u001b[K     |████████████                    | 368 kB 5.2 MB/s eta 0:00:01\r\u001b[K     |████████████▍                   | 378 kB 5.2 MB/s eta 0:00:01\r\u001b[K     |████████████▊                   | 389 kB 5.2 MB/s eta 0:00:01\r\u001b[K     |█████████████                   | 399 kB 5.2 MB/s eta 0:00:01\r\u001b[K     |█████████████▍                  | 409 kB 5.2 MB/s eta 0:00:01\r\u001b[K     |█████████████▊                  | 419 kB 5.2 MB/s eta 0:00:01\r\u001b[K     |██████████████                  | 430 kB 5.2 MB/s eta 0:00:01\r\u001b[K     |██████████████▍                 | 440 kB 5.2 MB/s eta 0:00:01\r\u001b[K     |██████████████▊                 | 450 kB 5.2 MB/s eta 0:00:01\r\u001b[K     |███████████████                 | 460 kB 5.2 MB/s eta 0:00:01\r\u001b[K     |███████████████▍                | 471 kB 5.2 MB/s eta 0:00:01\r\u001b[K     |███████████████▊                | 481 kB 5.2 MB/s eta 0:00:01\r\u001b[K     |████████████████                | 491 kB 5.2 MB/s eta 0:00:01\r\u001b[K     |████████████████▍               | 501 kB 5.2 MB/s eta 0:00:01\r\u001b[K     |████████████████▊               | 512 kB 5.2 MB/s eta 0:00:01\r\u001b[K     |█████████████████               | 522 kB 5.2 MB/s eta 0:00:01\r\u001b[K     |█████████████████▍              | 532 kB 5.2 MB/s eta 0:00:01\r\u001b[K     |█████████████████▊              | 542 kB 5.2 MB/s eta 0:00:01\r\u001b[K     |██████████████████              | 552 kB 5.2 MB/s eta 0:00:01\r\u001b[K     |██████████████████▍             | 563 kB 5.2 MB/s eta 0:00:01\r\u001b[K     |██████████████████▊             | 573 kB 5.2 MB/s eta 0:00:01\r\u001b[K     |███████████████████             | 583 kB 5.2 MB/s eta 0:00:01\r\u001b[K     |███████████████████▍            | 593 kB 5.2 MB/s eta 0:00:01\r\u001b[K     |███████████████████▊            | 604 kB 5.2 MB/s eta 0:00:01\r\u001b[K     |████████████████████            | 614 kB 5.2 MB/s eta 0:00:01\r\u001b[K     |████████████████████▍           | 624 kB 5.2 MB/s eta 0:00:01\r\u001b[K     |████████████████████▊           | 634 kB 5.2 MB/s eta 0:00:01\r\u001b[K     |█████████████████████           | 645 kB 5.2 MB/s eta 0:00:01\r\u001b[K     |█████████████████████▍          | 655 kB 5.2 MB/s eta 0:00:01\r\u001b[K     |█████████████████████▊          | 665 kB 5.2 MB/s eta 0:00:01\r\u001b[K     |██████████████████████          | 675 kB 5.2 MB/s eta 0:00:01\r\u001b[K     |██████████████████████▍         | 686 kB 5.2 MB/s eta 0:00:01\r\u001b[K     |██████████████████████▊         | 696 kB 5.2 MB/s eta 0:00:01\r\u001b[K     |███████████████████████         | 706 kB 5.2 MB/s eta 0:00:01\r\u001b[K     |███████████████████████▍        | 716 kB 5.2 MB/s eta 0:00:01\r\u001b[K     |███████████████████████▊        | 727 kB 5.2 MB/s eta 0:00:01\r\u001b[K     |████████████████████████        | 737 kB 5.2 MB/s eta 0:00:01\r\u001b[K     |████████████████████████▍       | 747 kB 5.2 MB/s eta 0:00:01\r\u001b[K     |████████████████████████▊       | 757 kB 5.2 MB/s eta 0:00:01\r\u001b[K     |█████████████████████████       | 768 kB 5.2 MB/s eta 0:00:01\r\u001b[K     |█████████████████████████▍      | 778 kB 5.2 MB/s eta 0:00:01\r\u001b[K     |█████████████████████████▊      | 788 kB 5.2 MB/s eta 0:00:01\r\u001b[K     |██████████████████████████      | 798 kB 5.2 MB/s eta 0:00:01\r\u001b[K     |██████████████████████████▍     | 808 kB 5.2 MB/s eta 0:00:01\r\u001b[K     |██████████████████████████▊     | 819 kB 5.2 MB/s eta 0:00:01\r\u001b[K     |███████████████████████████     | 829 kB 5.2 MB/s eta 0:00:01\r\u001b[K     |███████████████████████████▍    | 839 kB 5.2 MB/s eta 0:00:01\r\u001b[K     |███████████████████████████▊    | 849 kB 5.2 MB/s eta 0:00:01\r\u001b[K     |████████████████████████████    | 860 kB 5.2 MB/s eta 0:00:01\r\u001b[K     |████████████████████████████▍   | 870 kB 5.2 MB/s eta 0:00:01\r\u001b[K     |████████████████████████████▊   | 880 kB 5.2 MB/s eta 0:00:01\r\u001b[K     |█████████████████████████████   | 890 kB 5.2 MB/s eta 0:00:01\r\u001b[K     |█████████████████████████████▍  | 901 kB 5.2 MB/s eta 0:00:01\r\u001b[K     |█████████████████████████████▊  | 911 kB 5.2 MB/s eta 0:00:01\r\u001b[K     |██████████████████████████████  | 921 kB 5.2 MB/s eta 0:00:01\r\u001b[K     |██████████████████████████████▍ | 931 kB 5.2 MB/s eta 0:00:01\r\u001b[K     |██████████████████████████████▊ | 942 kB 5.2 MB/s eta 0:00:01\r\u001b[K     |███████████████████████████████ | 952 kB 5.2 MB/s eta 0:00:01\r\u001b[K     |███████████████████████████████▍| 962 kB 5.2 MB/s eta 0:00:01\r\u001b[K     |███████████████████████████████▊| 972 kB 5.2 MB/s eta 0:00:01\r\u001b[K     |████████████████████████████████| 982 kB 5.2 MB/s \n",
            "\u001b[?25hRequirement already satisfied: pandas in /usr/local/lib/python3.7/dist-packages (from gradio) (1.1.5)\n",
            "Collecting markdown2\n",
            "  Downloading markdown2-2.4.2-py2.py3-none-any.whl (34 kB)\n",
            "Requirement already satisfied: Flask>=1.1.1 in /usr/local/lib/python3.7/dist-packages (from gradio) (1.1.4)\n",
            "Collecting Flask-Cors>=3.0.8\n",
            "  Downloading Flask_Cors-3.0.10-py2.py3-none-any.whl (14 kB)\n",
            "Collecting paramiko\n",
            "  Downloading paramiko-2.8.1-py2.py3-none-any.whl (206 kB)\n",
            "\u001b[K     |████████████████████████████████| 206 kB 48.2 MB/s \n",
            "\u001b[?25hCollecting flask-cachebuster\n",
            "  Downloading Flask-CacheBuster-1.0.0.tar.gz (3.1 kB)\n",
            "Requirement already satisfied: numpy in /usr/local/lib/python3.7/dist-packages (from gradio) (1.19.5)\n",
            "Requirement already satisfied: pycryptodome in /usr/local/lib/python3.7/dist-packages (from gradio) (3.12.0)\n",
            "Requirement already satisfied: requests in /usr/local/lib/python3.7/dist-packages (from gradio) (2.23.0)\n",
            "Collecting ffmpy\n",
            "  Downloading ffmpy-0.3.0.tar.gz (4.8 kB)\n",
            "Requirement already satisfied: pillow in /usr/local/lib/python3.7/dist-packages (from gradio) (7.1.2)\n",
            "Collecting pydub\n",
            "  Downloading pydub-0.25.1-py2.py3-none-any.whl (32 kB)\n",
            "Collecting analytics-python\n",
            "  Downloading analytics_python-1.4.0-py2.py3-none-any.whl (15 kB)\n",
            "Requirement already satisfied: matplotlib in /usr/local/lib/python3.7/dist-packages (from gradio) (3.2.2)\n",
            "Collecting Flask-Login\n",
            "  Downloading Flask_Login-0.5.0-py2.py3-none-any.whl (16 kB)\n",
            "Requirement already satisfied: Werkzeug<2.0,>=0.15 in /usr/local/lib/python3.7/dist-packages (from Flask>=1.1.1->gradio) (1.0.1)\n",
            "Requirement already satisfied: Jinja2<3.0,>=2.10.1 in /usr/local/lib/python3.7/dist-packages (from Flask>=1.1.1->gradio) (2.11.3)\n",
            "Requirement already satisfied: click<8.0,>=5.1 in /usr/local/lib/python3.7/dist-packages (from Flask>=1.1.1->gradio) (7.1.2)\n",
            "Requirement already satisfied: itsdangerous<2.0,>=0.24 in /usr/local/lib/python3.7/dist-packages (from Flask>=1.1.1->gradio) (1.1.0)\n",
            "Requirement already satisfied: Six in /usr/local/lib/python3.7/dist-packages (from Flask-Cors>=3.0.8->gradio) (1.15.0)\n",
            "Requirement already satisfied: MarkupSafe>=0.23 in /usr/local/lib/python3.7/dist-packages (from Jinja2<3.0,>=2.10.1->Flask>=1.1.1->gradio) (2.0.1)\n",
            "Requirement already satisfied: python-dateutil>2.1 in /usr/local/lib/python3.7/dist-packages (from analytics-python->gradio) (2.8.2)\n",
            "Collecting backoff==1.10.0\n",
            "  Downloading backoff-1.10.0-py2.py3-none-any.whl (31 kB)\n",
            "Collecting monotonic>=1.5\n",
            "  Downloading monotonic-1.6-py2.py3-none-any.whl (8.2 kB)\n",
            "Requirement already satisfied: chardet<4,>=3.0.2 in /usr/local/lib/python3.7/dist-packages (from requests->gradio) (3.0.4)\n",
            "Requirement already satisfied: urllib3!=1.25.0,!=1.25.1,<1.26,>=1.21.1 in /usr/local/lib/python3.7/dist-packages (from requests->gradio) (1.24.3)\n",
            "Requirement already satisfied: certifi>=2017.4.17 in /usr/local/lib/python3.7/dist-packages (from requests->gradio) (2021.10.8)\n",
            "Requirement already satisfied: idna<3,>=2.5 in /usr/local/lib/python3.7/dist-packages (from requests->gradio) (2.10)\n",
            "Requirement already satisfied: cycler>=0.10 in /usr/local/lib/python3.7/dist-packages (from matplotlib->gradio) (0.11.0)\n",
            "Requirement already satisfied: pyparsing!=2.0.4,!=2.1.2,!=2.1.6,>=2.0.1 in /usr/local/lib/python3.7/dist-packages (from matplotlib->gradio) (3.0.6)\n",
            "Requirement already satisfied: kiwisolver>=1.0.1 in /usr/local/lib/python3.7/dist-packages (from matplotlib->gradio) (1.3.2)\n",
            "Requirement already satisfied: pytz>=2017.2 in /usr/local/lib/python3.7/dist-packages (from pandas->gradio) (2018.9)\n",
            "Collecting bcrypt>=3.1.3\n",
            "  Downloading bcrypt-3.2.0-cp36-abi3-manylinux2010_x86_64.whl (63 kB)\n",
            "\u001b[K     |████████████████████████████████| 63 kB 1.6 MB/s \n",
            "\u001b[?25hCollecting pynacl>=1.0.1\n",
            "  Downloading PyNaCl-1.4.0-cp35-abi3-manylinux1_x86_64.whl (961 kB)\n",
            "\u001b[K     |████████████████████████████████| 961 kB 35.4 MB/s \n",
            "\u001b[?25hCollecting cryptography>=2.5\n",
            "  Downloading cryptography-36.0.1-cp36-abi3-manylinux_2_24_x86_64.whl (3.6 MB)\n",
            "\u001b[K     |████████████████████████████████| 3.6 MB 34.8 MB/s \n",
            "\u001b[?25hRequirement already satisfied: cffi>=1.1 in /usr/local/lib/python3.7/dist-packages (from bcrypt>=3.1.3->paramiko->gradio) (1.15.0)\n",
            "Requirement already satisfied: pycparser in /usr/local/lib/python3.7/dist-packages (from cffi>=1.1->bcrypt>=3.1.3->paramiko->gradio) (2.21)\n",
            "Building wheels for collected packages: ffmpy, flask-cachebuster\n",
            "  Building wheel for ffmpy (setup.py) ... \u001b[?25l\u001b[?25hdone\n",
            "  Created wheel for ffmpy: filename=ffmpy-0.3.0-py3-none-any.whl size=4710 sha256=bc5c99296e103bcb3e469fb056075c8f58d85721f3bc2069c042a2d2ec7b95c9\n",
            "  Stored in directory: /root/.cache/pip/wheels/13/e4/6c/e8059816e86796a597c6e6b0d4c880630f51a1fcfa0befd5e6\n",
            "  Building wheel for flask-cachebuster (setup.py) ... \u001b[?25l\u001b[?25hdone\n",
            "  Created wheel for flask-cachebuster: filename=Flask_CacheBuster-1.0.0-py3-none-any.whl size=3371 sha256=38154a66dc9f8309708db93bf464eff3aff11cb1bf089d1ed172446d623d75a6\n",
            "  Stored in directory: /root/.cache/pip/wheels/28/c0/c4/44687421dab41455be93112bd1b0dee1f3c5a9aa27bee63708\n",
            "Successfully built ffmpy flask-cachebuster\n",
            "Installing collected packages: pynacl, monotonic, cryptography, bcrypt, backoff, pydub, paramiko, markdown2, Flask-Login, Flask-Cors, flask-cachebuster, ffmpy, analytics-python, gradio\n",
            "Successfully installed Flask-Cors-3.0.10 Flask-Login-0.5.0 analytics-python-1.4.0 backoff-1.10.0 bcrypt-3.2.0 cryptography-36.0.1 ffmpy-0.3.0 flask-cachebuster-1.0.0 gradio-2.5.2 markdown2-2.4.2 monotonic-1.6 paramiko-2.8.1 pydub-0.25.1 pynacl-1.4.0\n"
          ]
        }
      ]
    },
    {
      "cell_type": "code",
      "source": [
        "import gradio as gr\n",
        "import paddlehub as hub\n",
        "from pathlib import Path\n",
        "module = hub.Module(name=\"wav2lip\")\n",
        "def inference(image,audio):\n",
        "    face_input_path = image\n",
        "    audio_input_path = audio\n",
        "    print(audio_input_path)\n",
        "    module.wav2lip_transfer(face=face_input_path, audio=audio_input_path, output_dir='.', use_gpu=True)  \n",
        "    return \"result.mp4\"\n",
        "\n",
        "# Must be a wav file! I used my DAW to convert the MP3 to wav (cuz too lazy to use ffmpeg)\n",
        "inference('/content/monatest.jpeg', '/content/Master.wav')"
      ],
      "metadata": {
        "colab": {
          "base_uri": "https://localhost:8080/",
          "height": 451
        },
        "id": "7uUL5HgUizWo",
        "outputId": "f2e31926-11ab-4b0e-fdd7-9c8955cb5226"
      },
      "execution_count": 4,
      "outputs": [
        {
          "output_type": "stream",
          "name": "stdout",
          "text": [
            "[12/20 23:54:06] ppgan INFO: Downloading GPEN-512.pdparams from https://paddlegan.bj.bcebos.com/models/GPEN-512.pdparams to /root/.cache/ppgan/GPEN-512.pdparams\n"
          ]
        },
        {
          "output_type": "stream",
          "name": "stderr",
          "text": [
            "100%|██████████| 277380/277380 [00:38<00:00, 7175.10it/s] \n"
          ]
        },
        {
          "output_type": "error",
          "ename": "SystemError",
          "evalue": "ignored",
          "traceback": [
            "\u001b[0;31m---------------------------------------------------------------------------\u001b[0m",
            "\u001b[0;31mSystemError\u001b[0m                               Traceback (most recent call last)",
            "\u001b[0;32m<ipython-input-4-f218820937db>\u001b[0m in \u001b[0;36m<module>\u001b[0;34m()\u001b[0m\n\u001b[1;32m      2\u001b[0m \u001b[0;32mimport\u001b[0m \u001b[0mpaddlehub\u001b[0m \u001b[0;32mas\u001b[0m \u001b[0mhub\u001b[0m\u001b[0;34m\u001b[0m\u001b[0;34m\u001b[0m\u001b[0m\n\u001b[1;32m      3\u001b[0m \u001b[0;32mfrom\u001b[0m \u001b[0mpathlib\u001b[0m \u001b[0;32mimport\u001b[0m \u001b[0mPath\u001b[0m\u001b[0;34m\u001b[0m\u001b[0;34m\u001b[0m\u001b[0m\n\u001b[0;32m----> 4\u001b[0;31m \u001b[0mmodule\u001b[0m \u001b[0;34m=\u001b[0m \u001b[0mhub\u001b[0m\u001b[0;34m.\u001b[0m\u001b[0mModule\u001b[0m\u001b[0;34m(\u001b[0m\u001b[0mname\u001b[0m\u001b[0;34m=\u001b[0m\u001b[0;34m\"wav2lip\"\u001b[0m\u001b[0;34m)\u001b[0m\u001b[0;34m\u001b[0m\u001b[0;34m\u001b[0m\u001b[0m\n\u001b[0m\u001b[1;32m      5\u001b[0m \u001b[0;32mdef\u001b[0m \u001b[0minference\u001b[0m\u001b[0;34m(\u001b[0m\u001b[0mimage\u001b[0m\u001b[0;34m,\u001b[0m\u001b[0maudio\u001b[0m\u001b[0;34m)\u001b[0m\u001b[0;34m:\u001b[0m\u001b[0;34m\u001b[0m\u001b[0;34m\u001b[0m\u001b[0m\n\u001b[1;32m      6\u001b[0m     \u001b[0mface_input_path\u001b[0m \u001b[0;34m=\u001b[0m \u001b[0mimage\u001b[0m\u001b[0;34m\u001b[0m\u001b[0;34m\u001b[0m\u001b[0m\n",
            "\u001b[0;32m/usr/local/lib/python3.7/dist-packages/paddlehub/module/module.py\u001b[0m in \u001b[0;36m__new__\u001b[0;34m(cls, name, directory, version, source, update, branch, ignore_env_mismatch, **kwargs)\u001b[0m\n\u001b[1;32m    393\u001b[0m                     \u001b[0mbranch\u001b[0m\u001b[0;34m=\u001b[0m\u001b[0mbranch\u001b[0m\u001b[0;34m,\u001b[0m\u001b[0;34m\u001b[0m\u001b[0;34m\u001b[0m\u001b[0m\n\u001b[1;32m    394\u001b[0m                     \u001b[0mignore_env_mismatch\u001b[0m\u001b[0;34m=\u001b[0m\u001b[0mignore_env_mismatch\u001b[0m\u001b[0;34m,\u001b[0m\u001b[0;34m\u001b[0m\u001b[0;34m\u001b[0m\u001b[0m\n\u001b[0;32m--> 395\u001b[0;31m                     **kwargs)\n\u001b[0m\u001b[1;32m    396\u001b[0m                 \u001b[0mCacheUpdater\u001b[0m\u001b[0;34m(\u001b[0m\u001b[0;34m\"update_cache\"\u001b[0m\u001b[0;34m,\u001b[0m \u001b[0mmodule\u001b[0m\u001b[0;34m=\u001b[0m\u001b[0mname\u001b[0m\u001b[0;34m,\u001b[0m \u001b[0mversion\u001b[0m\u001b[0;34m=\u001b[0m\u001b[0mversion\u001b[0m\u001b[0;34m)\u001b[0m\u001b[0;34m.\u001b[0m\u001b[0mstart\u001b[0m\u001b[0;34m(\u001b[0m\u001b[0;34m)\u001b[0m\u001b[0;34m\u001b[0m\u001b[0;34m\u001b[0m\u001b[0m\n\u001b[1;32m    397\u001b[0m             \u001b[0;32melif\u001b[0m \u001b[0mdirectory\u001b[0m\u001b[0;34m:\u001b[0m\u001b[0;34m\u001b[0m\u001b[0;34m\u001b[0m\u001b[0m\n",
            "\u001b[0;32m/usr/local/lib/python3.7/dist-packages/paddlehub/module/module.py\u001b[0m in \u001b[0;36minit_with_name\u001b[0;34m(cls, name, version, source, update, branch, ignore_env_mismatch, **kwargs)\u001b[0m\n\u001b[1;32m    509\u001b[0m \u001b[0;34m\u001b[0m\u001b[0m\n\u001b[1;32m    510\u001b[0m         \u001b[0muser_module_cls\u001b[0m\u001b[0;34m.\u001b[0m\u001b[0mdirectory\u001b[0m \u001b[0;34m=\u001b[0m \u001b[0mdirectory\u001b[0m\u001b[0;34m\u001b[0m\u001b[0;34m\u001b[0m\u001b[0m\n\u001b[0;32m--> 511\u001b[0;31m         \u001b[0;32mreturn\u001b[0m \u001b[0muser_module_cls\u001b[0m\u001b[0;34m(\u001b[0m\u001b[0;34m**\u001b[0m\u001b[0mkwargs\u001b[0m\u001b[0;34m)\u001b[0m\u001b[0;34m\u001b[0m\u001b[0;34m\u001b[0m\u001b[0m\n\u001b[0m\u001b[1;32m    512\u001b[0m \u001b[0;34m\u001b[0m\u001b[0m\n\u001b[1;32m    513\u001b[0m     \u001b[0;34m@\u001b[0m\u001b[0mclassmethod\u001b[0m\u001b[0;34m\u001b[0m\u001b[0;34m\u001b[0m\u001b[0m\n",
            "\u001b[0;32m/root/.paddlehub/modules/wav2lip/module.py\u001b[0m in \u001b[0;36m__init__\u001b[0;34m(self)\u001b[0m\n\u001b[1;32m     46\u001b[0m                                  \u001b[0mnosmooth\u001b[0m \u001b[0;34m=\u001b[0m \u001b[0;32mFalse\u001b[0m\u001b[0;34m,\u001b[0m\u001b[0;34m\u001b[0m\u001b[0;34m\u001b[0m\u001b[0m\n\u001b[1;32m     47\u001b[0m                                  \u001b[0mface_detector\u001b[0m \u001b[0;34m=\u001b[0m \u001b[0;34m'sfd'\u001b[0m\u001b[0;34m,\u001b[0m\u001b[0;34m\u001b[0m\u001b[0;34m\u001b[0m\u001b[0m\n\u001b[0;32m---> 48\u001b[0;31m                                  face_enhancement = True)\n\u001b[0m\u001b[1;32m     49\u001b[0m \u001b[0;34m\u001b[0m\u001b[0m\n\u001b[1;32m     50\u001b[0m \u001b[0;34m\u001b[0m\u001b[0m\n",
            "\u001b[0;32m/root/.paddlehub/modules/wav2lip/model.py\u001b[0m in \u001b[0;36m__init__\u001b[0;34m(self, checkpoint_path, static, fps, pads, face_det_batch_size, wav2lip_batch_size, resize_factor, crop, box, rotate, nosmooth, face_detector, face_enhancement)\u001b[0m\n\u001b[1;32m     46\u001b[0m         \u001b[0;32mif\u001b[0m \u001b[0mface_enhancement\u001b[0m\u001b[0;34m:\u001b[0m\u001b[0;34m\u001b[0m\u001b[0;34m\u001b[0m\u001b[0m\n\u001b[1;32m     47\u001b[0m             \u001b[0;32mfrom\u001b[0m \u001b[0mppgan\u001b[0m\u001b[0;34m.\u001b[0m\u001b[0mfaceutils\u001b[0m\u001b[0;34m.\u001b[0m\u001b[0mface_enhancement\u001b[0m \u001b[0;32mimport\u001b[0m \u001b[0mFaceEnhancement\u001b[0m\u001b[0;34m\u001b[0m\u001b[0;34m\u001b[0m\u001b[0m\n\u001b[0;32m---> 48\u001b[0;31m             \u001b[0mself\u001b[0m\u001b[0;34m.\u001b[0m\u001b[0mfaceenhancer\u001b[0m \u001b[0;34m=\u001b[0m \u001b[0mFaceEnhancement\u001b[0m\u001b[0;34m(\u001b[0m\u001b[0;34m)\u001b[0m\u001b[0;34m\u001b[0m\u001b[0;34m\u001b[0m\u001b[0m\n\u001b[0m\u001b[1;32m     49\u001b[0m         \u001b[0mmakedirs\u001b[0m\u001b[0;34m(\u001b[0m\u001b[0;34m'./temp'\u001b[0m\u001b[0;34m,\u001b[0m \u001b[0mexist_ok\u001b[0m\u001b[0;34m=\u001b[0m\u001b[0;32mTrue\u001b[0m\u001b[0;34m)\u001b[0m\u001b[0;34m\u001b[0m\u001b[0;34m\u001b[0m\u001b[0m\n\u001b[1;32m     50\u001b[0m \u001b[0;34m\u001b[0m\u001b[0m\n",
            "\u001b[0;32m/usr/local/lib/python3.7/dist-packages/ppgan/faceutils/face_enhancement/face_enhance.py\u001b[0m in \u001b[0;36m__init__\u001b[0;34m(self, path_to_enhance, size, batch_size)\u001b[0m\n\u001b[1;32m     40\u001b[0m             \u001b[0mmodel_weights\u001b[0m \u001b[0;34m=\u001b[0m \u001b[0mpaddle\u001b[0m\u001b[0;34m.\u001b[0m\u001b[0mload\u001b[0m\u001b[0;34m(\u001b[0m\u001b[0mpath_to_enhance\u001b[0m\u001b[0;34m)\u001b[0m\u001b[0;34m\u001b[0m\u001b[0;34m\u001b[0m\u001b[0m\n\u001b[1;32m     41\u001b[0m \u001b[0;34m\u001b[0m\u001b[0m\n\u001b[0;32m---> 42\u001b[0;31m         \u001b[0mself\u001b[0m\u001b[0;34m.\u001b[0m\u001b[0mface_enhance\u001b[0m \u001b[0;34m=\u001b[0m \u001b[0mGPEN\u001b[0m\u001b[0;34m(\u001b[0m\u001b[0msize\u001b[0m\u001b[0;34m=\u001b[0m\u001b[0;36m512\u001b[0m\u001b[0;34m,\u001b[0m \u001b[0mstyle_dim\u001b[0m\u001b[0;34m=\u001b[0m\u001b[0;36m512\u001b[0m\u001b[0;34m,\u001b[0m \u001b[0mn_mlp\u001b[0m\u001b[0;34m=\u001b[0m\u001b[0;36m8\u001b[0m\u001b[0;34m)\u001b[0m\u001b[0;34m\u001b[0m\u001b[0;34m\u001b[0m\u001b[0m\n\u001b[0m\u001b[1;32m     43\u001b[0m         \u001b[0mself\u001b[0m\u001b[0;34m.\u001b[0m\u001b[0mface_enhance\u001b[0m\u001b[0;34m.\u001b[0m\u001b[0mload_dict\u001b[0m\u001b[0;34m(\u001b[0m\u001b[0mmodel_weights\u001b[0m\u001b[0;34m)\u001b[0m\u001b[0;34m\u001b[0m\u001b[0;34m\u001b[0m\u001b[0m\n\u001b[1;32m     44\u001b[0m         \u001b[0mself\u001b[0m\u001b[0;34m.\u001b[0m\u001b[0mface_enhance\u001b[0m\u001b[0;34m.\u001b[0m\u001b[0meval\u001b[0m\u001b[0;34m(\u001b[0m\u001b[0;34m)\u001b[0m\u001b[0;34m\u001b[0m\u001b[0;34m\u001b[0m\u001b[0m\n",
            "\u001b[0;32m/usr/local/lib/python3.7/dist-packages/ppgan/models/generators/gpen.py\u001b[0m in \u001b[0;36m__init__\u001b[0;34m(self, size, style_dim, n_mlp, channel_multiplier, blur_kernel, lr_mlp)\u001b[0m\n\u001b[1;32m     52\u001b[0m                                              \u001b[0mblur_kernel\u001b[0m\u001b[0;34m=\u001b[0m\u001b[0mblur_kernel\u001b[0m\u001b[0;34m,\u001b[0m\u001b[0;34m\u001b[0m\u001b[0;34m\u001b[0m\u001b[0m\n\u001b[1;32m     53\u001b[0m                                              \u001b[0mlr_mlp\u001b[0m\u001b[0;34m=\u001b[0m\u001b[0mlr_mlp\u001b[0m\u001b[0;34m,\u001b[0m\u001b[0;34m\u001b[0m\u001b[0;34m\u001b[0m\u001b[0m\n\u001b[0;32m---> 54\u001b[0;31m                                              is_concat=True)\n\u001b[0m\u001b[1;32m     55\u001b[0m \u001b[0;34m\u001b[0m\u001b[0m\n\u001b[1;32m     56\u001b[0m         \u001b[0mconv\u001b[0m \u001b[0;34m=\u001b[0m \u001b[0;34m[\u001b[0m\u001b[0mConvLayer\u001b[0m\u001b[0;34m(\u001b[0m\u001b[0;36m3\u001b[0m\u001b[0;34m,\u001b[0m \u001b[0mchannels\u001b[0m\u001b[0;34m[\u001b[0m\u001b[0msize\u001b[0m\u001b[0;34m]\u001b[0m\u001b[0;34m,\u001b[0m \u001b[0;36m1\u001b[0m\u001b[0;34m)\u001b[0m\u001b[0;34m]\u001b[0m\u001b[0;34m\u001b[0m\u001b[0;34m\u001b[0m\u001b[0m\n",
            "\u001b[0;32m/usr/local/lib/python3.7/dist-packages/ppgan/models/generators/generator_styleganv2.py\u001b[0m in \u001b[0;36m__init__\u001b[0;34m(self, size, style_dim, n_mlp, channel_multiplier, blur_kernel, lr_mlp, is_concat)\u001b[0m\n\u001b[1;32m    261\u001b[0m                             \u001b[0mstyle_dim\u001b[0m\u001b[0;34m,\u001b[0m\u001b[0;34m\u001b[0m\u001b[0;34m\u001b[0m\u001b[0m\n\u001b[1;32m    262\u001b[0m                             \u001b[0mlr_mul\u001b[0m\u001b[0;34m=\u001b[0m\u001b[0mlr_mlp\u001b[0m\u001b[0;34m,\u001b[0m\u001b[0;34m\u001b[0m\u001b[0;34m\u001b[0m\u001b[0m\n\u001b[0;32m--> 263\u001b[0;31m                             activation=\"fused_lrelu\"))\n\u001b[0m\u001b[1;32m    264\u001b[0m \u001b[0;34m\u001b[0m\u001b[0m\n\u001b[1;32m    265\u001b[0m         \u001b[0mself\u001b[0m\u001b[0;34m.\u001b[0m\u001b[0mstyle\u001b[0m \u001b[0;34m=\u001b[0m \u001b[0mnn\u001b[0m\u001b[0;34m.\u001b[0m\u001b[0mSequential\u001b[0m\u001b[0;34m(\u001b[0m\u001b[0;34m*\u001b[0m\u001b[0mlayers\u001b[0m\u001b[0;34m)\u001b[0m\u001b[0;34m\u001b[0m\u001b[0;34m\u001b[0m\u001b[0m\n",
            "\u001b[0;32m/usr/local/lib/python3.7/dist-packages/ppgan/modules/equalized.py\u001b[0m in \u001b[0;36m__init__\u001b[0;34m(self, in_dim, out_dim, bias, bias_init, lr_mul, activation)\u001b[0m\n\u001b[1;32m     85\u001b[0m \u001b[0;34m\u001b[0m\u001b[0m\n\u001b[1;32m     86\u001b[0m         self.weight = self.create_parameter(\n\u001b[0;32m---> 87\u001b[0;31m             (in_dim, out_dim), default_initializer=nn.initializer.Normal())\n\u001b[0m\u001b[1;32m     88\u001b[0m         \u001b[0mself\u001b[0m\u001b[0;34m.\u001b[0m\u001b[0mweight\u001b[0m\u001b[0;34m.\u001b[0m\u001b[0mset_value\u001b[0m\u001b[0;34m(\u001b[0m\u001b[0;34m(\u001b[0m\u001b[0mself\u001b[0m\u001b[0;34m.\u001b[0m\u001b[0mweight\u001b[0m \u001b[0;34m/\u001b[0m \u001b[0mlr_mul\u001b[0m\u001b[0;34m)\u001b[0m\u001b[0;34m)\u001b[0m\u001b[0;34m\u001b[0m\u001b[0;34m\u001b[0m\u001b[0m\n\u001b[1;32m     89\u001b[0m \u001b[0;34m\u001b[0m\u001b[0m\n",
            "\u001b[0;32m/usr/local/lib/python3.7/dist-packages/paddle/fluid/dygraph/layers.py\u001b[0m in \u001b[0;36mcreate_parameter\u001b[0;34m(self, shape, attr, dtype, is_bias, default_initializer)\u001b[0m\n\u001b[1;32m    422\u001b[0m             \u001b[0mtemp_attr\u001b[0m \u001b[0;34m=\u001b[0m \u001b[0;32mNone\u001b[0m\u001b[0;34m\u001b[0m\u001b[0;34m\u001b[0m\u001b[0m\n\u001b[1;32m    423\u001b[0m         return self._helper.create_parameter(temp_attr, shape, dtype, is_bias,\n\u001b[0;32m--> 424\u001b[0;31m                                              default_initializer)\n\u001b[0m\u001b[1;32m    425\u001b[0m \u001b[0;34m\u001b[0m\u001b[0m\n\u001b[1;32m    426\u001b[0m     @deprecated(\n",
            "\u001b[0;32m/usr/local/lib/python3.7/dist-packages/paddle/fluid/layer_helper_base.py\u001b[0m in \u001b[0;36mcreate_parameter\u001b[0;34m(self, attr, shape, dtype, is_bias, default_initializer, stop_gradient, type)\u001b[0m\n\u001b[1;32m    376\u001b[0m                 \u001b[0mtype\u001b[0m\u001b[0;34m=\u001b[0m\u001b[0mtype\u001b[0m\u001b[0;34m,\u001b[0m\u001b[0;34m\u001b[0m\u001b[0;34m\u001b[0m\u001b[0m\n\u001b[1;32m    377\u001b[0m                 \u001b[0mstop_gradient\u001b[0m\u001b[0;34m=\u001b[0m\u001b[0mstop_gradient\u001b[0m\u001b[0;34m,\u001b[0m\u001b[0;34m\u001b[0m\u001b[0;34m\u001b[0m\u001b[0m\n\u001b[0;32m--> 378\u001b[0;31m                 **attr._to_kwargs(with_initializer=True))\n\u001b[0m\u001b[1;32m    379\u001b[0m         \u001b[0;32melse\u001b[0m\u001b[0;34m:\u001b[0m\u001b[0;34m\u001b[0m\u001b[0;34m\u001b[0m\u001b[0m\n\u001b[1;32m    380\u001b[0m             self.startup_program.global_block().create_parameter(\n",
            "\u001b[0;32m/usr/local/lib/python3.7/dist-packages/paddle/fluid/framework.py\u001b[0m in \u001b[0;36mcreate_parameter\u001b[0;34m(self, *args, **kwargs)\u001b[0m\n\u001b[1;32m   3135\u001b[0m                 \u001b[0;32mpass\u001b[0m\u001b[0;34m\u001b[0m\u001b[0;34m\u001b[0m\u001b[0m\n\u001b[1;32m   3136\u001b[0m             \u001b[0;32melse\u001b[0m\u001b[0;34m:\u001b[0m\u001b[0;34m\u001b[0m\u001b[0;34m\u001b[0m\u001b[0m\n\u001b[0;32m-> 3137\u001b[0;31m                 \u001b[0minitializer\u001b[0m\u001b[0;34m(\u001b[0m\u001b[0mparam\u001b[0m\u001b[0;34m,\u001b[0m \u001b[0mself\u001b[0m\u001b[0;34m)\u001b[0m\u001b[0;34m\u001b[0m\u001b[0;34m\u001b[0m\u001b[0m\n\u001b[0m\u001b[1;32m   3138\u001b[0m         \u001b[0;32mreturn\u001b[0m \u001b[0mparam\u001b[0m\u001b[0;34m\u001b[0m\u001b[0;34m\u001b[0m\u001b[0m\n\u001b[1;32m   3139\u001b[0m \u001b[0;34m\u001b[0m\u001b[0m\n",
            "\u001b[0;32m/usr/local/lib/python3.7/dist-packages/paddle/fluid/initializer.py\u001b[0m in \u001b[0;36m__call__\u001b[0;34m(self, var, block)\u001b[0m\n\u001b[1;32m    364\u001b[0m                 \u001b[0;34m\"use_mkldnn\"\u001b[0m\u001b[0;34m:\u001b[0m \u001b[0;32mFalse\u001b[0m\u001b[0;34m\u001b[0m\u001b[0;34m\u001b[0m\u001b[0m\n\u001b[1;32m    365\u001b[0m             },\n\u001b[0;32m--> 366\u001b[0;31m             stop_gradient=True)\n\u001b[0m\u001b[1;32m    367\u001b[0m \u001b[0;34m\u001b[0m\u001b[0m\n\u001b[1;32m    368\u001b[0m         \u001b[0;32mif\u001b[0m \u001b[0mvar\u001b[0m\u001b[0;34m.\u001b[0m\u001b[0mdtype\u001b[0m \u001b[0;32min\u001b[0m \u001b[0;34m[\u001b[0m\u001b[0mVarDesc\u001b[0m\u001b[0;34m.\u001b[0m\u001b[0mVarType\u001b[0m\u001b[0;34m.\u001b[0m\u001b[0mFP16\u001b[0m\u001b[0;34m,\u001b[0m \u001b[0mVarDesc\u001b[0m\u001b[0;34m.\u001b[0m\u001b[0mVarType\u001b[0m\u001b[0;34m.\u001b[0m\u001b[0mBF16\u001b[0m\u001b[0;34m]\u001b[0m\u001b[0;34m:\u001b[0m\u001b[0;34m\u001b[0m\u001b[0;34m\u001b[0m\u001b[0m\n",
            "\u001b[0;32m/usr/local/lib/python3.7/dist-packages/paddle/fluid/framework.py\u001b[0m in \u001b[0;36mappend_op\u001b[0;34m(self, *args, **kwargs)\u001b[0m\n\u001b[1;32m   3165\u001b[0m                                        \u001b[0mkwargs\u001b[0m\u001b[0;34m.\u001b[0m\u001b[0mget\u001b[0m\u001b[0;34m(\u001b[0m\u001b[0;34m\"outputs\"\u001b[0m\u001b[0;34m,\u001b[0m \u001b[0;34m{\u001b[0m\u001b[0;34m}\u001b[0m\u001b[0;34m)\u001b[0m\u001b[0;34m,\u001b[0m \u001b[0mattrs\u001b[0m\u001b[0;34m\u001b[0m\u001b[0;34m\u001b[0m\u001b[0m\n\u001b[1;32m   3166\u001b[0m                                        \u001b[0;32mif\u001b[0m \u001b[0mattrs\u001b[0m \u001b[0;32melse\u001b[0m \u001b[0;34m{\u001b[0m\u001b[0;34m}\u001b[0m\u001b[0;34m,\u001b[0m\u001b[0;34m\u001b[0m\u001b[0;34m\u001b[0m\u001b[0m\n\u001b[0;32m-> 3167\u001b[0;31m                                        kwargs.get(\"stop_gradient\", False))\n\u001b[0m\u001b[1;32m   3168\u001b[0m         \u001b[0;32melse\u001b[0m\u001b[0;34m:\u001b[0m\u001b[0;34m\u001b[0m\u001b[0;34m\u001b[0m\u001b[0m\n\u001b[1;32m   3169\u001b[0m             \u001b[0;32mfrom\u001b[0m \u001b[0mpaddle\u001b[0m\u001b[0;34m.\u001b[0m\u001b[0mfluid\u001b[0m\u001b[0;34m.\u001b[0m\u001b[0mdygraph\u001b[0m\u001b[0;34m.\u001b[0m\u001b[0mbase\u001b[0m \u001b[0;32mimport\u001b[0m \u001b[0mparam_guard\u001b[0m\u001b[0;34m\u001b[0m\u001b[0;34m\u001b[0m\u001b[0m\n",
            "\u001b[0;32m/usr/local/lib/python3.7/dist-packages/paddle/fluid/dygraph/tracer.py\u001b[0m in \u001b[0;36mtrace_op\u001b[0;34m(self, type, inputs, outputs, attrs, stop_gradient)\u001b[0m\n\u001b[1;32m     43\u001b[0m         self.trace(type, inputs, outputs, attrs,\n\u001b[1;32m     44\u001b[0m                    \u001b[0mframework\u001b[0m\u001b[0;34m.\u001b[0m\u001b[0m_current_expected_place\u001b[0m\u001b[0;34m(\u001b[0m\u001b[0;34m)\u001b[0m\u001b[0;34m,\u001b[0m \u001b[0mself\u001b[0m\u001b[0;34m.\u001b[0m\u001b[0m_has_grad\u001b[0m \u001b[0;32mand\u001b[0m\u001b[0;34m\u001b[0m\u001b[0;34m\u001b[0m\u001b[0m\n\u001b[0;32m---> 45\u001b[0;31m                    not stop_gradient)\n\u001b[0m\u001b[1;32m     46\u001b[0m \u001b[0;34m\u001b[0m\u001b[0m\n\u001b[1;32m     47\u001b[0m     \u001b[0;32mdef\u001b[0m \u001b[0mtrain_mode\u001b[0m\u001b[0;34m(\u001b[0m\u001b[0mself\u001b[0m\u001b[0;34m)\u001b[0m\u001b[0;34m:\u001b[0m\u001b[0;34m\u001b[0m\u001b[0;34m\u001b[0m\u001b[0m\n",
            "\u001b[0;31mSystemError\u001b[0m: (Fatal) Operator gaussian_random raises an thrust::system::system_error exception.\nThe exception content is\n:parallel_for failed: cudaErrorNoKernelImageForDevice: no kernel image is available for execution on the device. (at /paddle/paddle/fluid/imperative/tracer.cc:221)\n"
          ]
        }
      ]
    }
  ]
}